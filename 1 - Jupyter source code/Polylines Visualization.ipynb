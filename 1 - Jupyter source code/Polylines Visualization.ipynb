{
 "cells": [
  {
   "cell_type": "code",
   "execution_count": 1,
   "metadata": {},
   "outputs": [],
   "source": [
    "import ipyleaflet \n",
    "import ipywidgets\n",
    "import pandas as pd\n",
    "import time\n",
    "import os\n",
    "import asyncio\n",
    "import logging\n",
    "from branca.colormap import linear\n",
    "from random import uniform\n",
    "from ast import literal_eval\n",
    "\n",
    "markers = []\n",
    "ANIMATION_STEP_DELAY = 0.2  # in seconds\n",
    "\n",
    "m = ipyleaflet.Map(center = (50.0755,14.4), zoom = 10, layout=ipywidgets.Layout(height='720px'))"
   ]
  },
  {
   "cell_type": "markdown",
   "metadata": {},
   "source": [
    "<H1>Polyline vizualizace</H1>\n",
    "<H3>Vizualizace cest uživatelů aplikace SmartGuide</H3>\n",
    "<br>\n",
    "Vizualizace založeny na datech společnosti SmartGuide\n",
    "<br>\n",
    "Vytvořeno v rámci bakalářské práce pro Fakultu Informatiky a Managementu Univerzity Hradce Králové\n",
    "<br>\n",
    "<br>\n",
    "Petr Veselý"
   ]
  },
  {
   "cell_type": "code",
   "execution_count": 2,
   "metadata": {},
   "outputs": [],
   "source": [
    "data = pd.concat(map(pd.read_csv, ['polylines/polylines_0.csv', 'polylines/polylines_1.csv']), ignore_index=True)\n",
    "data.points = data.points.apply(literal_eval)\n",
    "days = sorted(data.date.unique())\n",
    "dev_languages=sorted(data.dev_language.unique())\n",
    "dev_os=sorted(data.dev_system.unique())"
   ]
  },
  {
   "cell_type": "code",
   "execution_count": 3,
   "metadata": {},
   "outputs": [],
   "source": [
    "def update(date=None, lang=None, os=None, tourist=None):          \n",
    "    if not date and not lang and not os:  \n",
    "        frame_data = data\n",
    "        lines.opacity=0.5\n",
    "    else:\n",
    "        frame_data = data.loc[data['date'] >= date[0]].loc[data['date'] <= date[1]] \n",
    "        lines.opacity=0.75\n",
    "        if os:\n",
    "            frame_data = frame_data[frame_data['dev_system'].isin(os)]\n",
    "        if not tourist:\n",
    "            if lang:\n",
    "                frame_data = frame_data[frame_data['dev_language'].isin(lang)]\n",
    "        else:    \n",
    "            frame_data = frame_data[frame_data.foreginer.eq(True)]       \n",
    "     \n",
    "    lines.locations = frame_data['points'].values.tolist()"
   ]
  },
  {
   "cell_type": "code",
   "execution_count": 4,
   "metadata": {},
   "outputs": [],
   "source": [
    "slider = ipywidgets.SelectionRangeSlider(description='',\n",
    "                                         options=days,\n",
    "                                         readout=True,\n",
    "                                         continuous_update=False, \n",
    "                                         layout=ipywidgets.Layout(width='720px')\n",
    ")"
   ]
  },
  {
   "cell_type": "code",
   "execution_count": 5,
   "metadata": {},
   "outputs": [],
   "source": [
    "os_select = ipywidgets.SelectMultiple(\n",
    "    options= dev_os,\n",
    "    description='Device OS',\n",
    "    disabled=False\n",
    ")"
   ]
  },
  {
   "cell_type": "code",
   "execution_count": 6,
   "metadata": {},
   "outputs": [],
   "source": [
    "lang_select = ipywidgets.SelectMultiple(\n",
    "    options= dev_languages,\n",
    "    description='Language',\n",
    "    rows=15,\n",
    "    disabled=False\n",
    ")"
   ]
  },
  {
   "cell_type": "code",
   "execution_count": 7,
   "metadata": {},
   "outputs": [],
   "source": [
    "all_langs_button = ipywidgets.Button(\n",
    "    description='All languages',\n",
    "    disabled=False,\n",
    "    tooltip='Select all languages',\n",
    "    icon='fa-language',\n",
    "    layout=ipywidgets.Layout(width='150px')\n",
    ")\n",
    "\n",
    "def all_langs(_):\n",
    "    lang_select.value = dev_languages\n",
    "\n",
    "all_langs_button.on_click(all_langs)"
   ]
  },
  {
   "cell_type": "code",
   "execution_count": 8,
   "metadata": {},
   "outputs": [],
   "source": [
    "tourist_button = ipywidgets.ToggleButton(\n",
    "    value=False,\n",
    "    description='Tourists only',\n",
    "    disabled=False,\n",
    "    button_style='', # 'success', 'info', 'warning', 'danger' or ''\n",
    "    tooltip='Show only assumed tourists, only useful within Czechia',\n",
    "    icon='fa-suitcase'\n",
    ")"
   ]
  },
  {
   "cell_type": "code",
   "execution_count": 9,
   "metadata": {},
   "outputs": [],
   "source": [
    "def call_update(change):\n",
    "   update(slider.value, lang_select.value, os_select.value, tourist_button.value)\n",
    "\n",
    "slider.observe(call_update, 'value')\n",
    "os_select.observe(call_update, 'value')\n",
    "lang_select.observe(call_update, 'value')\n",
    "tourist_button.observe(call_update, 'value')"
   ]
  },
  {
   "cell_type": "code",
   "execution_count": 10,
   "metadata": {},
   "outputs": [],
   "source": [
    "def animate_call(_):\n",
    "    if(animate_button.icon == 'play'):\n",
    "        animate_button.icon = 'pause'\n",
    "#         while run_animation_step():\n",
    "#             time.sleep(0.3)\n",
    "    else:\n",
    "        animate_button.icon = 'play'   "
   ]
  },
  {
   "cell_type": "code",
   "execution_count": 11,
   "metadata": {},
   "outputs": [],
   "source": [
    "def run_animation_step():\n",
    "    i = 1\n",
    "    j = 0\n",
    "   \n",
    "    while i < len(days) and i != days[i] != slider.value[1] :\n",
    "        i += 1\n",
    "\n",
    "    while j < i and j != days[j] != slider.value[0] :\n",
    "        j += 1\n",
    "        \n",
    "    if i + 1 < len(days):\n",
    "        slider.value = (days[j + 1], days[i+1] )\n",
    "        return True\n",
    "    \n",
    "    animate_button.icon = 'play'\n",
    "    return False\n",
    "\n",
    "async def run_animation_loop():\n",
    "    while True:\n",
    "        await asyncio.sleep(ANIMATION_STEP_DELAY)\n",
    "        if animate_button.icon == 'pause':\n",
    "            run_animation_step()\n",
    "    return x"
   ]
  },
  {
   "cell_type": "code",
   "execution_count": 12,
   "metadata": {},
   "outputs": [],
   "source": [
    "def all_data(_):\n",
    "    print('Prepping full datagram, please wait.')\n",
    "    update()"
   ]
  },
  {
   "cell_type": "code",
   "execution_count": 13,
   "metadata": {},
   "outputs": [],
   "source": [
    "animate_button = ipywidgets.Button(\n",
    "    description='',\n",
    "    disabled=False,\n",
    "    tooltip='Animate',\n",
    "    icon='play', # pause,\n",
    "    layout=ipywidgets.Layout(width='50px')\n",
    ")\n",
    "\n",
    "animate_button.on_click(animate_call)"
   ]
  },
  {
   "cell_type": "code",
   "execution_count": 14,
   "metadata": {},
   "outputs": [],
   "source": [
    "all_button = ipywidgets.Button(\n",
    "    description='',\n",
    "    disabled=False,\n",
    "    tooltip='All Data!',\n",
    "    icon='fa-globe',\n",
    "    layout=ipywidgets.Layout(width='50px')\n",
    ")\n",
    "\n",
    "all_button.on_click(all_data)"
   ]
  },
  {
   "cell_type": "code",
   "execution_count": 15,
   "metadata": {},
   "outputs": [],
   "source": [
    "lines = ipyleaflet.Polyline(\n",
    "    locations=[],\n",
    "    color=\"blue\" ,\n",
    "    fill=False,\n",
    "    weight=1,\n",
    ")\n",
    "\n",
    "m.add_layer(lines)\n",
    "m.add_control(ipyleaflet.FullScreenControl())"
   ]
  },
  {
   "cell_type": "code",
   "execution_count": 16,
   "metadata": {
    "scrolled": false
   },
   "outputs": [],
   "source": [
    "widget_control1 = ipyleaflet.WidgetControl(widget=slider, position='topright', layout=ipywidgets.Layout(width='500px'))\n",
    "m.add_control(widget_control1)\n",
    "widget_control2 = ipyleaflet.WidgetControl(widget=animate_button, position='bottomleft')\n",
    "m.add_control(widget_control2)\n",
    "widget_control3 = ipyleaflet.WidgetControl(widget=all_button, position='bottomleft')\n",
    "m.add_control(widget_control3)\n",
    "widget_control4 = ipyleaflet.WidgetControl(widget=lang_select, position='bottomright')\n",
    "m.add_control(widget_control4)\n",
    "widget_control5 = ipyleaflet.WidgetControl(widget=os_select, position='bottomright')\n",
    "m.add_control(widget_control5)\n",
    "widget_control6 = ipyleaflet.WidgetControl(widget=tourist_button, position='topright')\n",
    "m.add_control(widget_control6)\n",
    "widget_control7 = ipyleaflet.WidgetControl(widget=all_langs_button, position='bottomright')\n",
    "m.add_control(widget_control7)"
   ]
  },
  {
   "cell_type": "code",
   "execution_count": 17,
   "metadata": {},
   "outputs": [
    {
     "data": {
      "application/vnd.jupyter.widget-view+json": {
       "model_id": "29159bd568d84f7cb8eac737747ca36d",
       "version_major": 2,
       "version_minor": 0
      },
      "text/plain": [
       "Map(center=[50.0755, 14.4], controls=(ZoomControl(options=['position', 'zoom_in_text', 'zoom_in_title', 'zoom_…"
      ]
     },
     "metadata": {},
     "output_type": "display_data"
    },
    {
     "data": {
      "text/plain": [
       "True"
      ]
     },
     "execution_count": 17,
     "metadata": {},
     "output_type": "execute_result"
    }
   ],
   "source": [
    "display(m)\n",
    "\n",
    "logging.getLogger('asyncio').setLevel(logging.WARNING)\n",
    "asyncio.ensure_future(run_animation_loop())\n",
    "slider.value = (days[0], days[10])\n",
    "run_animation_step()"
   ]
  },
  {
   "cell_type": "markdown",
   "metadata": {},
   "source": [
    "Pro selekci více položek v ui modulech Device OS a Language lze použít klávesy Shift nebo CTRL."
   ]
  }
 ],
 "metadata": {
  "kernelspec": {
   "display_name": "Python 3",
   "language": "python",
   "name": "python3"
  },
  "language_info": {
   "codemirror_mode": {
    "name": "ipython",
    "version": 3
   },
   "file_extension": ".py",
   "mimetype": "text/x-python",
   "name": "python",
   "nbconvert_exporter": "python",
   "pygments_lexer": "ipython3",
   "version": "3.8.5"
  }
 },
 "nbformat": 4,
 "nbformat_minor": 4
}
